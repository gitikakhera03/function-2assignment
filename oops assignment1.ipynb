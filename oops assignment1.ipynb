{
 "cells": [
  {
   "cell_type": "code",
   "execution_count": 7,
   "id": "27191984-78d5-4a00-8ed2-ca817a4d0b5c",
   "metadata": {},
   "outputs": [],
   "source": [
    "class vehicle:\n",
    "    def __init__(self,name,speed,average):\n",
    "        self.name_of_vehicle=name\n",
    "        self.max_speed=speed\n",
    "        self.average_of_vehicle=average\n",
    "    def return_details(self):\n",
    "        return self.name_of_vehicle,self.max_speed,self.average_of_vehicle"
   ]
  },
  {
   "cell_type": "code",
   "execution_count": 8,
   "id": "e2fe401b-0bd3-4406-9445-6e4f45ab4aec",
   "metadata": {},
   "outputs": [],
   "source": [
    "gitu=vehicle(\"toyo\",34,23)"
   ]
  },
  {
   "cell_type": "code",
   "execution_count": 9,
   "id": "2d11694e-353f-4867-b5e4-361ce97880d3",
   "metadata": {},
   "outputs": [
    {
     "data": {
      "text/plain": [
       "('toyo', 34, 23)"
      ]
     },
     "execution_count": 9,
     "metadata": {},
     "output_type": "execute_result"
    }
   ],
   "source": [
    "gitu.return_details()"
   ]
  },
  {
   "cell_type": "code",
   "execution_count": 43,
   "id": "d1e146ce-7203-4c7e-88ab-d5618cba87c7",
   "metadata": {},
   "outputs": [],
   "source": [
    "class car(vehicle):\n",
    "    def seating_capacity(self,capacity):\n",
    "                self.capacity=capacity\n",
    "    def return_wants(self):\n",
    "        return self.name_of_vehicle,self.capacity\n",
    "\n",
    "        \n",
    "    "
   ]
  },
  {
   "cell_type": "code",
   "execution_count": 45,
   "id": "8635a064-39af-45cf-bb0a-c463675de043",
   "metadata": {},
   "outputs": [],
   "source": [
    "c1=car(\"land rover\",1,2)"
   ]
  },
  {
   "cell_type": "code",
   "execution_count": 46,
   "id": "5d0a472e-82a4-4bc8-9047-510b7c20f43f",
   "metadata": {},
   "outputs": [],
   "source": [
    "c1.seating_capacity(4)"
   ]
  },
  {
   "cell_type": "code",
   "execution_count": 47,
   "id": "9ebf2305-84ab-4a51-bf5b-6aff9a5ae919",
   "metadata": {},
   "outputs": [
    {
     "data": {
      "text/plain": [
       "('land rover', 4)"
      ]
     },
     "execution_count": 47,
     "metadata": {},
     "output_type": "execute_result"
    }
   ],
   "source": [
    "c1.return_wants()"
   ]
  },
  {
   "cell_type": "code",
   "execution_count": 37,
   "id": "f0f40f0d-19b5-47ea-806c-edce16f7dda8",
   "metadata": {},
   "outputs": [],
   "source": [
    "\"\"\"multiple inheritance is the term used when two or more class properties is in one class only\"\"\"\n",
    "class class1:\n",
    "    def d1(self):\n",
    "        print(\"i am class 1\")\n",
    "class class2:\n",
    "    def d2(self):\n",
    "        print(\"i am class 2\")\n",
    "class class3(class1,class2):\n",
    "    def d3(self):\n",
    "        print(\"i am class 3\")"
   ]
  },
  {
   "cell_type": "markdown",
   "id": "1f13f849-38a1-424e-a7ce-ba1aaacf98d5",
   "metadata": {},
   "source": [
    "a=class3"
   ]
  },
  {
   "cell_type": "markdown",
   "id": "5f72d73e-fe89-4f28-aa57-655224365c49",
   "metadata": {},
   "source": [
    "a=class3"
   ]
  },
  {
   "cell_type": "code",
   "execution_count": 38,
   "id": "49ce10fe-b268-4e36-8fb3-f463883913de",
   "metadata": {},
   "outputs": [],
   "source": [
    "b=class3()"
   ]
  },
  {
   "cell_type": "code",
   "execution_count": 40,
   "id": "ceb4c72d-a605-4889-85c1-4db7903c9d24",
   "metadata": {},
   "outputs": [
    {
     "name": "stdout",
     "output_type": "stream",
     "text": [
      "i am class 3\n"
     ]
    }
   ],
   "source": [
    "b.d3()"
   ]
  },
  {
   "cell_type": "code",
   "execution_count": 41,
   "id": "17253bde-edc2-41d4-9cbf-2242333f7e62",
   "metadata": {},
   "outputs": [
    {
     "name": "stdout",
     "output_type": "stream",
     "text": [
      "i am class 2\n"
     ]
    }
   ],
   "source": [
    "b.d2()"
   ]
  },
  {
   "cell_type": "code",
   "execution_count": 48,
   "id": "1b62648e-a814-4323-a3b4-34297e1c198c",
   "metadata": {},
   "outputs": [],
   "source": [
    "class shape:\n",
    "    def area(self,x,y):\n",
    "        self.x=x\n",
    "        self.y=y\n",
    "    def ca(self):\n",
    "        return self.x*self.y"
   ]
  },
  {
   "cell_type": "code",
   "execution_count": 52,
   "id": "2cc14304-4d34-4b77-bffc-f04d257899dd",
   "metadata": {},
   "outputs": [],
   "source": [
    "class circle(shape):\n",
    "    def area(self,radius):\n",
    "        self.radius=radius\n",
    "    def ca(self):\n",
    "        return 3.14*self.radius*self.radius"
   ]
  },
  {
   "cell_type": "code",
   "execution_count": 64,
   "id": "10fd175e-071a-45dd-b017-eca883154f6d",
   "metadata": {},
   "outputs": [],
   "source": [
    "d=circle()"
   ]
  },
  {
   "cell_type": "code",
   "execution_count": 65,
   "id": "49d69a67-2e8e-455f-aa96-ff60e2745906",
   "metadata": {},
   "outputs": [],
   "source": [
    "d.area(2)"
   ]
  },
  {
   "cell_type": "code",
   "execution_count": 66,
   "id": "d02d5a74-f37f-4525-b83a-ac33c18c8e86",
   "metadata": {},
   "outputs": [
    {
     "data": {
      "text/plain": [
       "12.56"
      ]
     },
     "execution_count": 66,
     "metadata": {},
     "output_type": "execute_result"
    }
   ],
   "source": [
    "d.ca()"
   ]
  },
  {
   "cell_type": "code",
   "execution_count": null,
   "id": "294f4727-c997-4fe5-a034-0fee189edbf1",
   "metadata": {},
   "outputs": [],
   "source": []
  }
 ],
 "metadata": {
  "kernelspec": {
   "display_name": "Python 3 (ipykernel)",
   "language": "python",
   "name": "python3"
  },
  "language_info": {
   "codemirror_mode": {
    "name": "ipython",
    "version": 3
   },
   "file_extension": ".py",
   "mimetype": "text/x-python",
   "name": "python",
   "nbconvert_exporter": "python",
   "pygments_lexer": "ipython3",
   "version": "3.10.8"
  }
 },
 "nbformat": 4,
 "nbformat_minor": 5
}
