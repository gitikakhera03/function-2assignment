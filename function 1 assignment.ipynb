{
 "cells": [
  {
   "cell_type": "code",
   "execution_count": 9,
   "id": "905c5351-91f7-4156-8075-b91ebf8f4d48",
   "metadata": {},
   "outputs": [
    {
     "data": {
      "text/plain": [
       "[1, 3, 5, 7, 9, 11, 13, 15, 17, 19, 21, 23]"
      ]
     },
     "execution_count": 9,
     "metadata": {},
     "output_type": "execute_result"
    }
   ],
   "source": [
    "#Q1. Which keyword is used to create a function? Create a function to return a list of odd numbers in the\n",
    "#range of 1 to 25.\n",
    "def gitu():\n",
    "    l=[]\n",
    "    for i in range (25):\n",
    "        if i%2!=0:\n",
    "            l.append(i)\n",
    "    return l\n",
    "gitu()\n",
    "       \n",
    "                                "
   ]
  },
  {
   "cell_type": "code",
   "execution_count": 8,
   "id": "2bcec1c9-11fd-48b1-8147-b4af77b2c8a5",
   "metadata": {},
   "outputs": [
    {
     "name": "stdout",
     "output_type": "stream",
     "text": [
      "8\n",
      "10\n",
      "200\n"
     ]
    }
   ],
   "source": [
    "##Q2. Why *args and **kwargs is used in some functions? Create a function each for *args and **kwargs\n",
    "#to demonstrate their use.   \n",
    "\"\"\"*args is used to take the any number of values in the list\n",
    "*kwargs is used to take the value in the key value format \"\"\"\n",
    "def add(*num):\n",
    "    sum=0\n",
    "    for n in num:\n",
    "        sum=sum+n\n",
    "    print(sum)\n",
    "add(3,5)\n",
    "add(4,6)\n",
    "class car():\n",
    "    def __init__(self,**kwargs):\n",
    "        self.speed=kwargs['s']\n",
    "        self.model=kwargs['c']\n",
    "audi= car(s=200,c='bmw') \n",
    "print(audi.speed)\n",
    "        "
   ]
  },
  {
   "cell_type": "code",
   "execution_count": 7,
   "id": "0b6a3298-6160-40e0-aa0b-3acef763e8a6",
   "metadata": {},
   "outputs": [
    {
     "name": "stdout",
     "output_type": "stream",
     "text": [
      "2\n",
      "4\n",
      "6\n",
      "8\n",
      "10\n"
     ]
    }
   ],
   "source": [
    "'''Q3. What is an iterator in python? Name the method used to initialise the iterator object and the method\n",
    "used for iteration. Use these methods to print the first five elements of the given list [2, 4, 6, 8, 10, 12, 14,\n",
    "16, 18, 20].'''\n",
    "\"\"\"iterator is an object in which an object can iterate through next() is  the iterator object and the method\n",
    "used for iteration.\"\"\"\n",
    "def git(l):\n",
    "    a=iter(l)\n",
    "    for i in range (5):\n",
    "        print(next(a))\n",
    "l=[2, 4, 6, 8, 10, 12, 14,\n",
    "16, 18, 20]  \n",
    "git(l)\n"
   ]
  },
  {
   "cell_type": "code",
   "execution_count": 6,
   "id": "916eef37-3ecd-451f-aca3-bef81738f4ff",
   "metadata": {},
   "outputs": [
    {
     "name": "stdout",
     "output_type": "stream",
     "text": [
      "0\n",
      "1\n"
     ]
    }
   ],
   "source": [
    "\"\"\"Q4 What is a generator function in python? Why yield keyword is used? Give an example of a generator\n",
    "function.\"\"\"\n",
    "\"\"\"in python generator function is like a normal function but instead of return it yeilds the value and the function that yeild a value is the generator function \n",
    "yeild keyword is used so that it does not occupy memory space of the program\"\"\"\n",
    "def the():\n",
    "    for i in range(10):\n",
    "        yield i\n",
    "a=the()\n",
    "print (next(a))\n",
    "print (next(a))"
   ]
  },
  {
   "cell_type": "code",
   "execution_count": 5,
   "id": "43d40567-38cc-4984-99b8-0b1b72382688",
   "metadata": {},
   "outputs": [
    {
     "ename": "SyntaxError",
     "evalue": "'(' was never closed (1080128112.py, line 9)",
     "output_type": "error",
     "traceback": [
      "\u001b[0;36m  Cell \u001b[0;32mIn[5], line 9\u001b[0;36m\u001b[0m\n\u001b[0;31m    print (count\u001b[0m\n\u001b[0m          ^\u001b[0m\n\u001b[0;31mSyntaxError\u001b[0m\u001b[0;31m:\u001b[0m '(' was never closed\n"
     ]
    }
   ],
   "source": [
    "\"\"\"Q5. Create a generator function for prime numbers less than 1000. Use the next() method to print the\n",
    "first 20 prime numbers.\"\"\"\n",
    "def prime_numbers():\n",
    "    count =3\n",
    "    for x in range (2,1000):\n",
    "        if count%x==0:\n",
    "            continue\n",
    "        if count%x!=0:\n",
    "            print (count\n",
    "    count+=1\n",
    "prime_numbers()\n",
    "        "
   ]
  },
  {
   "cell_type": "code",
   "execution_count": 3,
   "id": "d1d6455b-7aa9-4959-b7cf-3e1539dd64a2",
   "metadata": {},
   "outputs": [
    {
     "name": "stdout",
     "output_type": "stream",
     "text": [
      "1\n",
      "1\n",
      "2\n",
      "3\n",
      "5\n",
      "8\n",
      "13\n",
      "21\n",
      "34\n",
      "55\n",
      "None\n"
     ]
    }
   ],
   "source": [
    "#Q6. Write a python program to print the first 10 Fibonacci numbers using a while loop.\n",
    "def fib(n):\n",
    "    a,b=0,1\n",
    "    count=0\n",
    "    while count<n:\n",
    "        a,b=b,a+b\n",
    "        print(a)\n",
    "        count+=1\n",
    "print(fib(10))\n",
    "    "
   ]
  },
  {
   "cell_type": "code",
   "execution_count": 2,
   "id": "c7c9de10-dfa8-4844-b816-af8efecf4820",
   "metadata": {},
   "outputs": [
    {
     "name": "stdout",
     "output_type": "stream",
     "text": [
      "['p', 'w', 's', 'k', 'i', 'l', 'l', 's']\n"
     ]
    }
   ],
   "source": [
    "\"\"\"Q7. Write a List Comprehension to iterate through the given string: ‘pwskills’.\n",
    "Expected output: ['p', 'w', 's', 'k', 'i', 'l', 'l', 's']\"\"\"\n",
    "letter=[]\n",
    "for i in 'pwskills':\n",
    "    letter.append(i)\n",
    "print(letter)"
   ]
  },
  {
   "cell_type": "code",
   "execution_count": null,
   "id": "4e2a28b5-cd73-451b-a941-b17366afa619",
   "metadata": {},
   "outputs": [],
   "source": [
    "\"\"\"Q8. Write a python program to check whether a given number is Palindrome or not using a while loop.\"\"\"\n",
    "num=int(input(\"enter a number\"))\n",
    "temp=num\n",
    "rev=0\n",
    "while (num>0):\n",
    "    digit=num%10\n",
    "    rev=rev*10+digit\n",
    "    num//10\n",
    "if (rev==temp):\n",
    "    print(\"the given is palidrome\")\n",
    "else:\n",
    "    print(\"the given number is not palidrome\")"
   ]
  },
  {
   "cell_type": "code",
   "execution_count": 1,
   "id": "27367c11-93e7-4d14-8920-71c9f5aa8d37",
   "metadata": {},
   "outputs": [
    {
     "name": "stdout",
     "output_type": "stream",
     "text": [
      "[0, 2, 4, 6, 8, 10, 12, 14, 16, 18, 20, 22, 24, 26, 28, 30, 32, 34, 36, 38, 40, 42, 44, 46, 48, 50, 52, 54, 56, 58, 60, 62, 64, 66, 68, 70, 72, 74, 76, 78, 80, 82, 84, 86, 88, 90, 92, 94, 96, 98]\n",
      "None\n"
     ]
    }
   ],
   "source": [
    "#Q9. Write a code to print odd numbers from 1 to 100 using list comprehension.\n",
    "l=[]\n",
    "def odd_numbers():\n",
    "    for i in range (100):\n",
    "        if (i%2==0):\n",
    "            l.append(i)\n",
    "    print(l)\n",
    "print (odd_numbers())\n",
    "        "
   ]
  },
  {
   "cell_type": "code",
   "execution_count": null,
   "id": "7ab8538b-7335-43b0-ae8e-c623f3e8dce1",
   "metadata": {},
   "outputs": [],
   "source": []
  }
 ],
 "metadata": {
  "kernelspec": {
   "display_name": "Python 3 (ipykernel)",
   "language": "python",
   "name": "python3"
  },
  "language_info": {
   "codemirror_mode": {
    "name": "ipython",
    "version": 3
   },
   "file_extension": ".py",
   "mimetype": "text/x-python",
   "name": "python",
   "nbconvert_exporter": "python",
   "pygments_lexer": "ipython3",
   "version": "3.10.8"
  }
 },
 "nbformat": 4,
 "nbformat_minor": 5
}
